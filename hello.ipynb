{
 "cells": [
  {
   "cell_type": "markdown",
   "metadata": {},
   "source": [
    " 1.print your name and address  in same line using different print function\n",
    " "
   ]
  },
  {
   "cell_type": "code",
   "execution_count": null,
   "metadata": {},
   "outputs": [],
   "source": [
    "print(\"ankit\",end=\" \")\n",
    "print(\"gov.polytechnic dehradun\")"
   ]
  },
  {
   "cell_type": "markdown",
   "metadata": {},
   "source": [
    "2. print your name,roll num.and phon number different linr in same print function \n"
   ]
  },
  {
   "cell_type": "code",
   "execution_count": null,
   "metadata": {},
   "outputs": [],
   "source": [
    "print(\"ankit\",5,9690742438,sep=\" \")"
   ]
  },
  {
   "cell_type": "code",
   "execution_count": null,
   "metadata": {},
   "outputs": [],
   "source": [
    "print(\"ankit, 5, 9690743438\")"
   ]
  },
  {
   "cell_type": "markdown",
   "metadata": {},
   "source": [
    "3.Subtract three input user numbers (a-b-c)"
   ]
  },
  {
   "cell_type": "code",
   "execution_count": null,
   "metadata": {},
   "outputs": [],
   "source": [
    "a=int(input(\"first number\"))\n",
    "b=int(input(\"second number\"))\n",
    "c=int(input(\"third  number\"))\n",
    "result=a-b-c\n",
    "print(\"result\",result)\n"
   ]
  },
  {
   "cell_type": "markdown",
   "metadata": {},
   "source": [
    "4.multiply 4 no."
   ]
  },
  {
   "cell_type": "code",
   "execution_count": null,
   "metadata": {},
   "outputs": [],
   "source": [
    "a=int(input(\"first number\"))\n",
    "b=int(input(\"second number\"))\n",
    "c=int(input(\"third number\"))\n",
    "d=int(input(\"fourth number\"))\n",
    "result=(a*b*c*d)\n",
    "print(\"result\",result)"
   ]
  },
  {
   "cell_type": "markdown",
   "metadata": {},
   "source": [
    "5.print grater number "
   ]
  },
  {
   "cell_type": "code",
   "execution_count": null,
   "metadata": {},
   "outputs": [],
   "source": [
    "a=int(input(\"enter first num\"))\n",
    "b=int(input(\"enter second num\"))\n",
    "if a>b:\n",
    "    print(\"first no.\")\n",
    "elif b>a :\n",
    "    print(\"second no.\")\n",
    "else :\n",
    "    print(\"same\")\n",
    "  \n"
   ]
  },
  {
   "cell_type": "markdown",
   "metadata": {},
   "source": [
    "6.check creat mail and passward same user given mail and passward "
   ]
  },
  {
   "cell_type": "code",
   "execution_count": null,
   "metadata": {},
   "outputs": [],
   "source": [
    "correct_mail= \"ankitdikitya12@gmail.com\"\n",
    "correct_password=\"1234\" \n",
    "\n",
    "a=input(\"enter mail\")\n",
    "b=input(\"enter passward\")\n",
    "if a==correct_mail and b== correct_password:\n",
    "    print(\"walcome\")\n",
    "elif a==correct_mail:\n",
    "    print(\"wrong password\")\n",
    "elif b==correct_password:\n",
    "    print(\"wrong mail\")\n",
    "else:\n",
    "    print(\"wrong email and password\")\n",
    "     \n",
    "     \n",
    "\n",
    "\n",
    "\n",
    "\n"
   ]
  },
  {
   "cell_type": "code",
   "execution_count": null,
   "metadata": {},
   "outputs": [],
   "source": [
    "a=input(\"enter mail\")\n",
    "if \"@\" not in a:\n",
    "    print(\"enter valid mail\")\n",
    "else :\n",
    "    b=input(\"enter password\")\n",
    "            \n",
    "    correct_mail= \"ankitdikitya12@gmail.com\"\n",
    "    correct_password=\"1234\" \n",
    "    \n",
    "    if a==correct_mail and b== correct_password:\n",
    "        print(\"welcome\")\n",
    "    elif a==correct_mail:\n",
    "        print(\"wrong password\")\n",
    "    elif b==correct_password:\n",
    "        print(\"wrong mail\")\n",
    "    else:\n",
    "        print(\"wrong  email and password\")\n",
    "     "
   ]
  },
  {
   "cell_type": "code",
   "execution_count": null,
   "metadata": {},
   "outputs": [],
   "source": [
    "correct_mail=\"ankitdiktiya12@gmail.com\"\n",
    "correct_password=1234\n",
    "\n",
    "a=input(\"enter mail\")\n",
    "if \"@\"not in a:\n",
    "    print(\"enter valid email\")\n",
    "\n",
    "else:\n",
    "    b=input(\"enter password\")\n",
    "    if a==correct_mail and correct_password==b:\n",
    "        print()\n",
    "    elif a==correct_mail:\n",
    "        print(\"wrong password\")\n",
    "    elif b==correct_password:\n",
    "        print(\"wrong mail\")\n",
    "    else :\n",
    "        print(\"wrong email and password\")\n",
    "\n",
    "    \n",
    "        \n",
    "\n"
   ]
  },
  {
   "cell_type": "markdown",
   "metadata": {},
   "source": [
    "7.Asks the user to enter their score (an integer between 0 and 100). Checks if the score is valid (between 0 and 100). If not, print an error message.\n",
    "If the score is valid, determines the grade based on the following criteria:\n",
    "\n",
    "          90-100: A    \n",
    "          80-89: B    \n",
    "          70-79: C     \n",
    "          60-69: D     \n",
    "          Below 60: F   \n"
   ]
  },
  {
   "cell_type": "code",
   "execution_count": null,
   "metadata": {},
   "outputs": [],
   "source": [
    "score = int(input(\"Enter your score (between 0 and 100): \"))\n",
    "\n",
    "if 0 <= score <= 100:\n",
    "    if score >= 90:\n",
    "        print(\"A\")\n",
    "    elif score >= 80:\n",
    "        print(\"B\")\n",
    "    elif score >= 70:\n",
    "        print(\"C\")\n",
    "    elif score >= 60:\n",
    "        print(\"D\")\n",
    "    else:\n",
    "        print(\"F\")\n",
    "else:\n",
    "    print(\"Error: Score must be between 0 and 100.\")\n"
   ]
  },
  {
   "cell_type": "markdown",
   "metadata": {},
   "source": [
    "2: Simple Calculator\n",
    "Write a Python program that:\n",
    "\n",
    "Asks the user to enter two numbers.       \n",
    "Asks the user to choose an operation from the following: +, -, *, /     \n",
    "Performs the chosen operation on the two numbers.           \n",
    "Prints the result.        \n",
    "If the user chooses an invalid operation, prints an error message.      \n",
    "If the user attempts to divide by zero, prints an error message.        "
   ]
  },
  {
   "cell_type": "code",
   "execution_count": null,
   "metadata": {},
   "outputs": [],
   "source": [
    "a=float(input(\"enter first num \"))\n",
    "b=float(input(\"enter second num \"))\n",
    "\n",
    "operation=input(\"choose an operation +,-,*,/\")\n",
    "\n",
    "if operation=='+':\n",
    "    print(a+b)\n",
    "elif operation=='-':\n",
    "    print(a-b)\n",
    "elif operation=='*':\n",
    "    print(a*b)\n",
    "elif operation=='/':\n",
    "    if(b==0):\n",
    "        print(\"Invalid division\")\n",
    "    else:\n",
    "        print(a/b)\n",
    "else:\n",
    "    print(\"invalid operation\")\n",
    "\n",
    "                   \n",
    "\n",
    "\n",
    "\n"
   ]
  },
  {
   "cell_type": "code",
   "execution_count": null,
   "metadata": {},
   "outputs": [],
   "source": [
    "correct_num=55\n",
    "num=int(input(\"enter number\"))\n",
    "\n",
    "while correct_num!=num:\n",
    "    if num>correct_num:\n",
    "        print(\"lover number\")\n",
    "    else :\n",
    "        print(\"grater number\")\n",
    "    num=int(input(\"enter number\"))\n",
    "\n",
    "print(\"Congrats !\")\n",
    "\n"
   ]
  },
  {
   "cell_type": "code",
   "execution_count": null,
   "metadata": {},
   "outputs": [],
   "source": [
    "num=int(input(\"enter num\"))\n",
    "i=1\n",
    "while i<11:\n",
    "    print(\"num\",\"*\",i,\"=\",num*i)\n",
    "    i=i+1\n"
   ]
  },
  {
   "cell_type": "code",
   "execution_count": null,
   "metadata": {},
   "outputs": [],
   "source": [
    "num=int(input(\"enter num\"))\n",
    "i=1\n",
    "while i<11:\n",
    "    print(num,\"*\",i,\"=\",num*i)\n",
    "    i=i+1\n"
   ]
  },
  {
   "cell_type": "code",
   "execution_count": null,
   "metadata": {},
   "outputs": [],
   "source": [
    "correct_num=55\n",
    "num=int(input(\"enter number\"))\n",
    "\n",
    "while correct_num!=num:\n",
    "    if num>correct_num:\n",
    "        print(\"lover number\")\n",
    "    else :\n",
    "        print(\"grater number\")\n",
    "    \n",
    "\n",
    "\n",
    "\n"
   ]
  },
  {
   "cell_type": "markdown",
   "metadata": {},
   "source": [
    "print 0 1 1 2 3 5 8 13 21 34 "
   ]
  },
  {
   "cell_type": "code",
   "execution_count": null,
   "metadata": {},
   "outputs": [],
   "source": [
    "curr=0\n",
    "num=int(input(\"enter num\"))\n",
    "n=0\n",
    "prev=1\n",
    "next=1\n",
    "while curr<num:\n",
    "    print(n,end=\" \")\n",
    "    next=n+prev\n",
    "    prev=n\n",
    "    n=next\n",
    "    curr=curr+1  \n",
    "\n",
    "    \n",
    "\n",
    "\n",
    "\n"
   ]
  },
  {
   "cell_type": "markdown",
   "metadata": {},
   "source": [
    "print 1 3 5 7 9 11 13 15 17 19 "
   ]
  },
  {
   "cell_type": "code",
   "execution_count": null,
   "metadata": {},
   "outputs": [],
   "source": [
    "curr=0\n",
    "num=int(input(\"enter num\"))\n",
    "n=1\n",
    "\n",
    "while curr<num:\n",
    "    print(n,end=\" \")\n",
    "    n=n+2\n",
    "    curr=curr+1\n"
   ]
  },
  {
   "cell_type": "markdown",
   "metadata": {},
   "source": [
    "print 1 2 4 7 11 16 22 29 37 46 "
   ]
  },
  {
   "cell_type": "code",
   "execution_count": null,
   "metadata": {},
   "outputs": [],
   "source": [
    "curr=0\n",
    "num=int(input(\"enter num\"))\n",
    "n=1\n",
    "diff=1\n",
    "\n",
    "while curr<num:\n",
    "    print(n,end=\" \")\n",
    "    n=n+diff\n",
    "    diff=diff+1\n",
    "    curr=curr+1"
   ]
  },
  {
   "cell_type": "markdown",
   "metadata": {},
   "source": [
    "print 1 2 2 4 8 32 "
   ]
  },
  {
   "cell_type": "code",
   "execution_count": null,
   "metadata": {},
   "outputs": [],
   "source": [
    "curr=0\n",
    "num=int(input(\"enter num\"))\n",
    "n=1\n",
    "prev=2\n",
    "next=2\n",
    "\n",
    "while curr<num:\n",
    "    print(n,end=\" \")\n",
    "    \n",
    "    n=prev\n",
    "    prev=next\n",
    "    next=n*prev\n",
    "    \n",
    "    curr=curr+1"
   ]
  },
  {
   "cell_type": "code",
   "execution_count": null,
   "metadata": {},
   "outputs": [],
   "source": [
    "curr=0\n",
    "num=int(input(\"enter num\"))\n",
    "n=1\n",
    "prev=2\n",
    "next=4\n",
    "\n",
    "while curr<num:\n",
    "    print(n,end=\" \")\n",
    "    \n",
    "    n=prev\n",
    "    prev=next\n",
    "    next=n*prev\n",
    "    \n",
    "    curr=curr+1"
   ]
  },
  {
   "cell_type": "code",
   "execution_count": null,
   "metadata": {},
   "outputs": [],
   "source": [
    "curr=0\n",
    "num= int(input(\"enter num \"))\n",
    "n=1\n",
    "prev=2\n",
    "next=7\n",
    "while curr<num:\n",
    "    print(n,end=\" \")\n",
    "    \n"
   ]
  },
  {
   "cell_type": "code",
   "execution_count": null,
   "metadata": {},
   "outputs": [],
   "source": [
    "curr = 0\n",
    "num= int(input(\"enter num\"))\n",
    "n = 1\n",
    "\n",
    "while curr < num:\n",
    "    print(n, end=\" \")\n",
    "    n = 2*n + 1\n",
    "    curr += 1\n"
   ]
  },
  {
   "cell_type": "code",
   "execution_count": null,
   "metadata": {},
   "outputs": [],
   "source": [
    "\n",
    "n=2\n",
    "var=0\n",
    "while var<10:\n",
    "    print(n,end=\" \")\n",
    "    n=n+2\n",
    "    var=var+1\n",
    "\n",
    "    "
   ]
  },
  {
   "cell_type": "code",
   "execution_count": null,
   "metadata": {},
   "outputs": [],
   "source": [
    "var=1\n",
    "n=int(input(\"enter n\"))\n",
    "sum=0\n",
    "while var<=n:\n",
    "    sum=sum+var\n",
    "    var=var+1\n",
    "\n",
    "print(sum)    "
   ]
  },
  {
   "cell_type": "code",
   "execution_count": null,
   "metadata": {},
   "outputs": [],
   "source": [
    "var=1\n",
    "fact=1\n",
    "n=int(input(\"enter num\"))\n",
    "while var<=n:\n",
    "    fact=fact*var\n",
    "    var=var+1\n",
    "print(fact)    "
   ]
  },
  {
   "cell_type": "code",
   "execution_count": null,
   "metadata": {},
   "outputs": [],
   "source": [
    "sum=0\n",
    "n=145\n",
    "\n",
    "for i in range(1,n+1):\n",
    "    sum= sum + i\n",
    "\n",
    "print(sum)\n"
   ]
  },
  {
   "cell_type": "code",
   "execution_count": null,
   "metadata": {},
   "outputs": [],
   "source": [
    "curr=0\n",
    "num=int(input(\"enter num\"))\n",
    "n=1\n",
    "st=2\n",
    "for i in range(1,num+1):\n",
    "    print(n)\n",
    "    n+=st\n",
    "    st=st*2\n",
    "  \n",
    " \n",
    "\n",
    "    "
   ]
  },
  {
   "cell_type": "markdown",
   "metadata": {},
   "source": [
    "create a function to add 3 number"
   ]
  },
  {
   "cell_type": "code",
   "execution_count": null,
   "metadata": {},
   "outputs": [],
   "source": [
    "def add_three_num(a,b,c):\n",
    "    num = a+b+c\n",
    "    print(num)\n",
    "add_three_num(10,20,30)    "
   ]
  },
  {
   "cell_type": "markdown",
   "metadata": {},
   "source": [
    "create a class name animal & child class named  dog and cat\n",
    "print (dog,cat)\n"
   ]
  },
  {
   "cell_type": "code",
   "execution_count": null,
   "metadata": {},
   "outputs": [],
   "source": [
    "class animal():\n",
    "    print(\"animal\")\n",
    "    \n",
    "class dog(animal):\n",
    "    print(\"dog\")\n",
    "\n",
    "class cat(animal):\n",
    "    print(\"cat\") \n",
    "    \n",
    "    "
   ]
  },
  {
   "cell_type": "code",
   "execution_count": null,
   "metadata": {},
   "outputs": [],
   "source": [
    "class animal():\n",
    "    a=\"animal\"\n",
    "    \n",
    "    \n",
    "class dog(animal):\n",
    "    b=\"dog\"\n",
    "    \n",
    "\n",
    "class cat(animal):\n",
    "    c=\"cat\"\n",
    "     \n",
    "    \n",
    "    \n",
    "Dog=dog()\n",
    "Cat=cat()\n",
    "Animal=animal()\n",
    "print(Dog.b)\n",
    "print(Cat.c)\n",
    "print(Animal.a)"
   ]
  },
  {
   "cell_type": "code",
   "execution_count": null,
   "metadata": {},
   "outputs": [],
   "source": [
    "cp= int(input(\"enter cost price\"))\n",
    "sp= int(input(\"enter selling price\"))\n",
    "p_l=sp-cp\n",
    "if p_l>0:\n",
    "    print(\"profit\")\n",
    "else:\n",
    "    print(\"loss\")\n"
   ]
  },
  {
   "cell_type": "code",
   "execution_count": null,
   "metadata": {},
   "outputs": [],
   "source": [
    "cost_price = float(input(\"enter a cost price\"))\n",
    "selling_price = float(input(\"Enter the selling price \"))\n",
    "if selling_price>cost_price:\n",
    "    profit = selling_price-cost_price\n",
    "    print(\"profit\",profit)\n",
    "else:\n",
    "    loss=cost_price-selling_price\n",
    "    print(\"loss\",loss)   "
   ]
  },
  {
   "cell_type": "code",
   "execution_count": null,
   "metadata": {},
   "outputs": [],
   "source": [
    "a= int(input(\"enter a cost price\"))\n",
    "b= int(input(\"enter a selling price\"))\n",
    "if a<b:\n",
    "    print(\"profit\",b-a)\n",
    "else:\n",
    "    print(\"loss\",a-b)"
   ]
  },
  {
   "cell_type": "code",
   "execution_count": null,
   "metadata": {},
   "outputs": [],
   "source": [
    "n=5\n",
    "for i in range(1,n):\n",
    "    for j in range(n-i):\n",
    "        print(\" \",end=\" \") \n",
    "    for k in range(i):\n",
    "        print(\"*\",end=\" \")\n",
    "    print()"
   ]
  },
  {
   "cell_type": "code",
   "execution_count": null,
   "metadata": {},
   "outputs": [],
   "source": [
    "n=5\n",
    "for i in range( 1,n):\n",
    "    for j in range(i ):\n",
    "        print(\" \",end=\" \")\n",
    "    for j in range (n-i):\n",
    "        print(\"*\",end=\" \")\n",
    "    print()\n",
    "    \n",
    "    "
   ]
  },
  {
   "cell_type": "code",
   "execution_count": null,
   "metadata": {},
   "outputs": [],
   "source": [
    "n=5\n",
    "for i in range(1,n):\n",
    "    for j in range(i ):\n",
    "         print(\" \",end=\" \")\n",
    "    for j in range(n-1):\n",
    "        print(\"*\",end=\" \")\n",
    "print()"
   ]
  },
  {
   "cell_type": "code",
   "execution_count": null,
   "metadata": {},
   "outputs": [],
   "source": [
    "n=6\n",
    "for i in range(1,n-1):\n",
    "    print(i)\n",
    "    for j in range(n-1):\n",
    "        print(j+1,end=\" \")\n",
    "    print()\n",
    "        "
   ]
  },
  {
   "cell_type": "code",
   "execution_count": null,
   "metadata": {},
   "outputs": [],
   "source": []
  },
  {
   "cell_type": "code",
   "execution_count": null,
   "metadata": {},
   "outputs": [],
   "source": []
  },
  {
   "cell_type": "code",
   "execution_count": null,
   "metadata": {},
   "outputs": [],
   "source": [
    "n = 5\n",
    "for i in range(1, n+1):\n",
    "    for j in range(i):\n",
    "        print(\"*\", end=\"\")\n",
    "    print()\n"
   ]
  },
  {
   "cell_type": "code",
   "execution_count": null,
   "metadata": {},
   "outputs": [],
   "source": [
    "n=5\n",
    "for i in range(1,n+1):\n",
    "    for j in range (i):\n",
    "        print(\"*\",end=\" \")\n",
    "    print()"
   ]
  },
  {
   "cell_type": "code",
   "execution_count": null,
   "metadata": {},
   "outputs": [],
   "source": [
    "x=input(\"enter\")\n",
    "a=x.count(\"a\" or \"e\" or \"i\" or \"o\" or \"u\")\n",
    "print(a)\n"
   ]
  },
  {
   "cell_type": "code",
   "execution_count": null,
   "metadata": {},
   "outputs": [],
   "source": [
    "x=str(input(\"enter\"))\n",
    "a=x.count(\"a\")\n",
    "b=x.count(\"e\")\n",
    "c=x.count(\"i\")\n",
    "d=x.count(\"o\")\n",
    "e=x.count(\"u\")\n",
    "y=a+b+c+d+e\n",
    "print(y)"
   ]
  },
  {
   "cell_type": "code",
   "execution_count": null,
   "metadata": {},
   "outputs": [],
   "source": [
    "x=input(\"enter\")\n",
    "y=len(x)\n",
    "count=0\n",
    "vowel=\"aeiouAEIOU\"\n",
    "for z in x:\n",
    "    if z in vowel:\n",
    "        count+=1\n",
    "\n",
    "print(count)\n",
    "    "
   ]
  },
  {
   "cell_type": "code",
   "execution_count": null,
   "metadata": {},
   "outputs": [],
   "source": [
    "fruits={\"apple\",\"banana\",\"mango\"}\n",
    "calor=[\"blue\",\"green\",\"red\"]\n",
    "fruits.update(calor)\n",
    "print(fruits)"
   ]
  },
  {
   "cell_type": "code",
   "execution_count": null,
   "metadata": {},
   "outputs": [],
   "source": [
    "num=[1,2,3,4]\n",
    "num.reverse()\n",
    "print(num)\n"
   ]
  },
  {
   "cell_type": "code",
   "execution_count": null,
   "metadata": {},
   "outputs": [],
   "source": [
    "integer_list=[1,2,3,4,5,6]\n",
    "for number in integer_list:\n",
    "    print(number)\n",
    "    \n"
   ]
  },
  {
   "cell_type": "code",
   "execution_count": null,
   "metadata": {},
   "outputs": [],
   "source": [
    "integer_list=[1,2,3,4,5]\n",
    "list_num=sum(integer_list)\n",
    "print(list_num)"
   ]
  },
  {
   "cell_type": "code",
   "execution_count": null,
   "metadata": {},
   "outputs": [],
   "source": [
    "my_list=[1,2,3,4,5]\n",
    "i=4\n",
    "while i>=0:\n",
    "    print(my_list[i])\n",
    "    i=i-1\n",
    " \n",
    "    \n",
    "\n",
    "\n",
    "my[0]==my[i]\n",
    "\n"
   ]
  },
  {
   "cell_type": "code",
   "execution_count": null,
   "metadata": {},
   "outputs": [],
   "source": [
    "my_list=[1,2,2,3,4,4,5]\n",
    "for i in range(len(my_list)):\n",
    "    count=0\n",
    "    for j in range(len(my_list)):\n",
    "        \n",
    "        if(my_list[i]==my_list[j]):\n",
    "            count=count+1\n",
    "        if(count>1):\n",
    "            print(my_list[i],count)\n",
    "            \n",
    "           \n"
   ]
  },
  {
   "cell_type": "code",
   "execution_count": 3,
   "metadata": {},
   "outputs": [
    {
     "name": "stdout",
     "output_type": "stream",
     "text": [
      "2 2\n",
      "4 2\n"
     ]
    }
   ],
   "source": [
    "my_list = [1, 2, 2, 3, 4, 4, 5]\n",
    "\n",
    "for i in range(len(my_list)):\n",
    "    count = 0\n",
    "    for j in range(i,len(my_list)):\n",
    "        if my_list[i] == my_list[j]:\n",
    "            count += 1\n",
    "    if count > 1:\n",
    "        print(my_list[i], count)"
   ]
  },
  {
   "cell_type": "markdown",
   "metadata": {},
   "source": [
    "Q.Write a Python program that checks if a given number is even or odd."
   ]
  },
  {
   "cell_type": "code",
   "execution_count": null,
   "metadata": {},
   "outputs": [],
   "source": [
    "num=int(input(\"enter a num\"))\n",
    "if num%2==0:\n",
    "    print(\"num is even\")\n",
    "else:\n",
    "    print(\"num is odd\")"
   ]
  },
  {
   "cell_type": "markdown",
   "metadata": {},
   "source": [
    "Q.Create a program that determines whether a student has passed or failed based on their exam score. The passing score is 60.\n"
   ]
  },
  {
   "cell_type": "code",
   "execution_count": null,
   "metadata": {},
   "outputs": [],
   "source": [
    "score=int(input(\"enter score\" ))\n",
    "if score>=60:\n",
    "    print(\"student has passed \")\n",
    "else:\n",
    "    print(\"student has failed\")"
   ]
  },
  {
   "cell_type": "markdown",
   "metadata": {},
   "source": [
    "Q.Write a Python program to determine if a person is eligible to vote based on their age (18 and above).\n"
   ]
  },
  {
   "cell_type": "code",
   "execution_count": null,
   "metadata": {},
   "outputs": [],
   "source": [
    "age=int(input(\"enter age\"))\n",
    "if age>=18:\n",
    "    print(\"person is eligible to vote \")\n",
    "else:\n",
    "    print(\"person is not eligible to vote\")"
   ]
  },
  {
   "cell_type": "markdown",
   "metadata": {},
   "source": [
    "Q.Create a program that categorizes a person's body mass index (BMI) based on their weight and height.\n",
    "\n"
   ]
  },
  {
   "cell_type": "code",
   "execution_count": null,
   "metadata": {},
   "outputs": [],
   "source": [
    "wight=int(input(\"enter a wight\"))\n",
    "hight=int(input(\"enter num\"))\n",
    "BMI=wight/hight**2\n",
    "if BMI<18.5:\n",
    "    print(\"underwight\")\n",
    "elif BMI>=18.5 and BMI<25.5:\n",
    "    print(\"Normal wight \")\n",
    "elif BMI>=25.5 and BMI<30:\n",
    "    print(\"overwight\")\n",
    "else:\n",
    "    print(\"obesity\")\n"
   ]
  },
  {
   "cell_type": "markdown",
   "metadata": {},
   "source": [
    "Q.Write a program that determines the largest among three numbers entered by the user."
   ]
  },
  {
   "cell_type": "code",
   "execution_count": null,
   "metadata": {},
   "outputs": [],
   "source": [
    "num1=int(input(\"enter num1\"))\n",
    "num2=int(input(\"enter num2\"))\n",
    "num3=int(input(\"enter num3\"))\n",
    "\n",
    "if num1>num2 and num1>num3:\n",
    "    print(\"num1 is largest\")\n",
    "elif num2>num1 and num2>num3:\n",
    "    print(\"num2 is largest\")\n",
    "elif num3>num1 and num3>num2:\n",
    "    print(\"num3 is largest\")\n",
    "else:\n",
    "    print(\"three num are equle\")    "
   ]
  },
  {
   "cell_type": "markdown",
   "metadata": {},
   "source": [
    "Q.Write a program that determines whether a given year is a leap year or not.\n"
   ]
  },
  {
   "cell_type": "code",
   "execution_count": null,
   "metadata": {},
   "outputs": [],
   "source": [
    "n = int(input(\"Enter an integer: \"))\n",
    "\n",
    "if n % 2 != 0:\n",
    "    print(\"Weird\")\n",
    "else:\n",
    "    if n in range(2, 6):\n",
    "        print(\"Not Weird\")\n",
    "    elif n in range(6, 21):\n",
    "        print(\"Weird\")\n",
    "    elif n > 20:\n",
    "        print(\"Not Weird\")\n"
   ]
  },
  {
   "cell_type": "markdown",
   "metadata": {},
   "source": [
    "Q.Create a program that prompts the user to enter their age and then determines if they are eligible to vote (18 years or older) or not.\n"
   ]
  },
  {
   "cell_type": "code",
   "execution_count": null,
   "metadata": {},
   "outputs": [],
   "source": [
    "age=int(input(\"enter age\"))\n",
    "if age>=18:\n",
    "    print(\"person eligible to vote\")\n",
    "else:\n",
    "    print(\"person not eligible to vote\")"
   ]
  },
  {
   "cell_type": "markdown",
   "metadata": {},
   "source": [
    "Q.Write a Python program that prompts the user to enter two numbers and then prints the larger of the two numbers."
   ]
  },
  {
   "cell_type": "code",
   "execution_count": 4,
   "metadata": {},
   "outputs": [
    {
     "name": "stdout",
     "output_type": "stream",
     "text": [
      "both num are equale\n"
     ]
    }
   ],
   "source": [
    "num1=int(input(\"enter a num1\"))\n",
    "num2=int(input(\"enter num2\"))\n",
    "if num1>num2:\n",
    "    print(\"num1 is grater\")\n",
    "elif num2>num1:\n",
    "    print(\"num 2 is grater\")\n",
    "else:\n",
    "    print(\"both num are equale\")"
   ]
  },
  {
   "cell_type": "markdown",
   "metadata": {},
   "source": [
    "Q.Create a program that asks the user to input their exam score (out of 100) and then prints whether they passed (scored 60 or above) or failed.\n"
   ]
  },
  {
   "cell_type": "code",
   "execution_count": 5,
   "metadata": {},
   "outputs": [
    {
     "name": "stdout",
     "output_type": "stream",
     "text": [
      "congratulation you have passed\n"
     ]
    }
   ],
   "source": [
    "score=int(input(\"enter score:\"))\n",
    "if score>=60:\n",
    "    print(\"congratulation you have passed\")\n",
    "else:\n",
    "    print(\"unfortunately you have failed\")"
   ]
  },
  {
   "cell_type": "markdown",
   "metadata": {},
   "source": [
    " Q.Write a Python program to determine whether a year entered by the user is a leap year or not."
   ]
  },
  {
   "cell_type": "code",
   "execution_count": null,
   "metadata": {},
   "outputs": [],
   "source": [
    "year=int(input(\"enter a year\"))\n",
    "if (year%4==0 and year%100 !=0 ) or (year%400==0):\n",
    "    print(\"this year is leap year\")\n",
    "else:\n",
    "    print(\"not leap year\")"
   ]
  },
  {
   "cell_type": "code",
   "execution_count": null,
   "metadata": {},
   "outputs": [],
   "source": [
    "def calculate_bmi(weight, height):\n",
    "    bmi = weight / (height ** 2)\n",
    "    return bmi\n",
    "\n",
    "weight = float(input(\"Enter your weight in kg: \"))\n",
    "height = float(input(\"Enter your height in meters: \"))\n",
    "\n",
    "result = calculate_bmi(weight, height)\n",
    "print(\"Your BMI is:\", result)\n",
    "\n",
    "if result < 18.5:\n",
    "    print(\"You are underweight.\")\n",
    "elif 18.5 <= result <= 24.9:\n",
    "    print(\"You have a normal weight.\")\n",
    "elif 25 <= result <= 29.9:\n",
    "    print(\"You are overweight.\")\n",
    "else:\n",
    "    print(\"You are obese.\")"
   ]
  }
 ],
 "metadata": {
  "kernelspec": {
   "display_name": "Python 3",
   "language": "python",
   "name": "python3"
  },
  "language_info": {
   "codemirror_mode": {
    "name": "ipython",
    "version": 3
   },
   "file_extension": ".py",
   "mimetype": "text/x-python",
   "name": "python",
   "nbconvert_exporter": "python",
   "pygments_lexer": "ipython3",
   "version": "3.11.5"
  }
 },
 "nbformat": 4,
 "nbformat_minor": 2
}
